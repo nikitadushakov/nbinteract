{
 "cells": [
  {
   "cell_type": "code",
   "execution_count": 1,
   "metadata": {},
   "outputs": [],
   "source": [
    "from IPython.display import display, Image, HTML\n",
    "import ipywidgets as widgets\n",
    "from ipywidgets import Layout\n",
    "import ftplib\n",
    "import pandas as pd"
   ]
  },
  {
   "cell_type": "code",
   "execution_count": 2,
   "metadata": {},
   "outputs": [
    {
     "data": {
      "text/html": [
       "<style>\n",
       ".widget-image {\n",
       "    box-shadow: 5px 5px 19px rgba(0,0,0,0.2)!important;\n",
       "    padding: 20px!important;\n",
       "    border-radius: 7px!important;\n",
       "    max-height: 700px!important;\n",
       "}\n",
       ".widget-button {\n",
       "    background : #6deb6d;\n",
       "    border-radius: 50px!important;\n",
       "    letter-spacing: 3px;\n",
       "    transform: translateX(-50%);\n",
       "    left: 50%;\n",
       "    padding: 1.5em;\n",
       "    height: auto;\n",
       "    width: 50%;\n",
       "    box-shadow: 3px 2px 10px rgba(0,0,0,0.1);\n",
       "    transition: 0.2s;\n",
       "    margin-bottom: 15px!important;\n",
       "    \n",
       "}\n",
       "\n",
       ".widget-button:hover {\n",
       "    box-shadow: 3px 2px 15px rgba(0,0,0,0.2)!important;\n",
       "    transform:  translateX(-50%) scaleX(1.1);\n",
       "}\n",
       "#notebook-container {\n",
       "    width: 80%!important;\n",
       "}\n",
       "\n",
       "</style>\n"
      ],
      "text/plain": [
       "<IPython.core.display.HTML object>"
      ]
     },
     "metadata": {},
     "output_type": "display_data"
    }
   ],
   "source": [
    "%%html\n",
    "<style>\n",
    ".widget-image {\n",
    "    box-shadow: 5px 5px 19px rgba(0,0,0,0.2)!important;\n",
    "    padding: 20px!important;\n",
    "    border-radius: 7px!important;\n",
    "    max-height: 700px!important;\n",
    "}\n",
    ".widget-button {\n",
    "    background : #6deb6d;\n",
    "    border-radius: 50px!important;\n",
    "    letter-spacing: 3px;\n",
    "    transform: translateX(-50%);\n",
    "    left: 50%;\n",
    "    padding: 1.5em;\n",
    "    height: auto;\n",
    "    width: 50%;\n",
    "    box-shadow: 3px 2px 10px rgba(0,0,0,0.1);\n",
    "    transition: 0.2s;\n",
    "    margin-bottom: 15px!important;\n",
    "    \n",
    "}\n",
    "\n",
    ".widget-button:hover {\n",
    "    box-shadow: 3px 2px 15px rgba(0,0,0,0.2)!important;\n",
    "    transform:  translateX(-50%) scaleX(1.1);\n",
    "}\n",
    "#notebook-container {\n",
    "    width: 80%!important;\n",
    "}\n",
    "\n",
    "</style>"
   ]
  },
  {
   "cell_type": "code",
   "execution_count": 3,
   "metadata": {},
   "outputs": [],
   "source": [
    "data = pd.read_excel('photo_tsx.xlsx')"
   ]
  },
  {
   "cell_type": "code",
   "execution_count": 4,
   "metadata": {},
   "outputs": [],
   "source": [
    "plu = data.plu_id.astype(str)"
   ]
  },
  {
   "cell_type": "code",
   "execution_count": 5,
   "metadata": {},
   "outputs": [],
   "source": [
    "first = plu[:643]"
   ]
  },
  {
   "cell_type": "code",
   "execution_count": 6,
   "metadata": {},
   "outputs": [],
   "source": [
    "second = plu[643:1286]"
   ]
  },
  {
   "cell_type": "code",
   "execution_count": 7,
   "metadata": {},
   "outputs": [],
   "source": [
    "third = plu[1286:1929]"
   ]
  },
  {
   "cell_type": "code",
   "execution_count": 8,
   "metadata": {},
   "outputs": [],
   "source": [
    "fourth = plu[1929:]"
   ]
  },
  {
   "cell_type": "code",
   "execution_count": 9,
   "metadata": {},
   "outputs": [
    {
     "data": {
      "text/plain": [
       "(214, 214, 213)"
      ]
     },
     "execution_count": 9,
     "metadata": {},
     "output_type": "execute_result"
    }
   ],
   "source": [
    "fourth_1 = fourth[:214]\n",
    "fourth_2 = fourth[214:428]\n",
    "fourth_3 = fourth[428:]\n",
    "len(fourth_1), len(fourth_2), len(fourth_3)"
   ]
  },
  {
   "cell_type": "code",
   "execution_count": 10,
   "metadata": {},
   "outputs": [],
   "source": [
    "my_plu = first # меняете на  fourth_2, fourth_3"
   ]
  },
  {
   "cell_type": "code",
   "execution_count": 11,
   "metadata": {},
   "outputs": [],
   "source": [
    "\n",
    "class rename_photos:\n",
    "    \n",
    "    categories_list = ['Выберите категорию',\n",
    "                        'Лицевая',\n",
    "                        'Этикетка',\n",
    "                        'Состав',\n",
    "                        'Оборотная сторона',\n",
    "                        'Прочее',\n",
    "                        'Сверху',\n",
    "                        'Справа',\n",
    "                        'Слева',\n",
    "                        'Снизу',\n",
    "                        '3 грани']\n",
    "    \n",
    "    \n",
    "    \n",
    "    def __init__(self, login, password, plu):\n",
    "        \n",
    "        self.login = login\n",
    "        self.password = password\n",
    "        self.categories = {}\n",
    "        self.photo_dict = {}\n",
    "        self.all_plu = [(x[:2], x[2:4], x[4:]) for x in plu]\n",
    "        self.flag = False\n",
    "        self.categories_count = []\n",
    "        \n",
    "        self.num_pages = len(self.all_plu) // 2 + 1\n",
    "        self.current_page = 0\n",
    "        try:\n",
    "            self.ftp = ftplib.FTP(\"ftp.x5.ru\", user = self.login, passwd = self.password)\n",
    "        except: \n",
    "            print('Какая-то ошибка с подключением к серверу :(')\n",
    "        \n",
    "        \n",
    "        \n",
    "    def get_widget(self, image, caption, dropdown):\n",
    "        return widgets.VBox([image, caption, dropdown],\n",
    "                  layout = Layout(padding = '21px', align_self = 'center'))\n",
    "    \n",
    "    def get_dropdown(self):\n",
    "        return widgets.Dropdown(\n",
    "                options = self.categories_list,\n",
    "                layout = Layout(\n",
    "                    width = '100%', \n",
    "                    margin = '10px 0'\n",
    "                    )\n",
    "                )\n",
    "    \n",
    "    def repeat_rename(self, _):\n",
    "        self.flag = True\n",
    "        self.rename(_)\n",
    "    \n",
    "    def rename(self, _):\n",
    "\n",
    "        problem = False\n",
    "        self.categories_count = dict(zip(self.plu,[[0 for _ in range(len(self.categories_list))] for _ in range(len(self.plu))]))\n",
    "        if not self.flag:\n",
    "            for i in self.categories:\n",
    "                if self.categories[i].value == 'Выберите категорию':\n",
    "                    l = widgets.Label(f'Для фото {i} не выбрана категория')\n",
    "                    display(l)\n",
    "                    problem = True\n",
    "\n",
    "            if problem:\n",
    "                repeat_button = widgets.Button(description = 'Все равно переименовать')\n",
    "                repeat_button.on_click(self.repeat_rename)\n",
    "                display(repeat_button)\n",
    "                return\n",
    "        \n",
    "        k = 0\n",
    "        \n",
    "        while True:\n",
    "            try:\n",
    "                print(f\"Попытка подключиться {k+1}{(k+1) * '.'}\", end = '\\r')\n",
    "                ftp = ftplib.FTP(\"ftp.x5.ru\", user = self.login, passwd = self.password) \n",
    "                ftp.cwd('FotoCont_Perek/DBD')\n",
    "                break\n",
    "            except TimeoutError:\n",
    "                k += 1\n",
    "                continue\n",
    "            except:\n",
    "                print('Какая-то ошибка с подключением к серверу :(')\n",
    "                break\n",
    "        \n",
    "        for a, b, c in self.plu:\n",
    "            \n",
    "            try:\n",
    "                ftp.cwd(f'{a}/{b}/{a + b + c}')\n",
    "            except:\n",
    "                continue\n",
    "            photos_list = ftp.nlst()\n",
    "            for photo in photos_list:\n",
    "                category_str = self.categories[photo].value\n",
    "                category_code = self.categories_list.index(category_str)\n",
    "                new_name = f\"{photo.split('_')[0]}_{category_code}.jpeg\"\n",
    "                self.categories_count[(a, b, c)][category_code] += 1\n",
    "                num_of_categories = self.categories_count[(a, b, c)][category_code]\n",
    "                if num_of_categories > 1:\n",
    "                    new_name = f\"{photo.split('_')[0]}_{category_code}_{num_of_categories}.jpeg\"\n",
    "                \n",
    "                ftp.rename(fromname = photo, toname = new_name)\n",
    "                if new_name != photo:\n",
    "                    self.categories[new_name] = self.categories[photo]\n",
    "                    del self.categories[photo]\n",
    "                \n",
    "                label = widgets.Label(f'{photo} -> {new_name}')\n",
    "                display(label)\n",
    "                \n",
    "#             print(ftp.nlst())\n",
    "            ftp.cwd('../../..')\n",
    "        \n",
    "        ftp.quit()\n",
    "        next_button = widgets.Button(description = 'Следующие')\n",
    "        \n",
    "        next_button.on_click(self.next_plu)\n",
    "        display(next_button)\n",
    "    \n",
    "    def next_plu(self, _):\n",
    "#         for w in self.plu_widgets:\n",
    "#             w.layout.display = 'none'\n",
    "        from IPython.display import clear_output\n",
    "        clear_output()\n",
    "        self.flag = False\n",
    "        self.current_page += 1\n",
    "        if self.current_page == self.num_pages:\n",
    "            display(HTML(f'''<h3 style = 'background:black; \n",
    "                     border-radius: 100px; \n",
    "                     color: white;\n",
    "                     padding: 1em; \n",
    "                     text-align: center;'>Всё)</h3>'''))\n",
    "            return\n",
    "        self.categories = {}\n",
    "        self.get_photos()\n",
    "        \n",
    "    def bef_plu(self, _):\n",
    "#         for w in self.plu_widgets:\n",
    "#             w.layout.display = 'none'\n",
    "        from IPython.display import clear_output\n",
    "        clear_output()\n",
    "        self.flag = False\n",
    "        if self.current_page == 0:\n",
    "            return\n",
    "        self.current_page -= 1\n",
    "        \n",
    "        self.categories = {}\n",
    "        self.get_photos()\n",
    "        \n",
    "        \n",
    "\n",
    "\n",
    "        \n",
    "    \n",
    "    def get_image_file_ftp(self, photo):\n",
    "        '''\n",
    "        Файл передается с ftp сервера маленькими кусками, \n",
    "        поэтому делаем функцию, которая будет собирать их\n",
    "        в единое целое \n",
    "        '''\n",
    "        def callback(x):\n",
    "\n",
    "            try:\n",
    "                self.photo_dict[photo] += x\n",
    "\n",
    "            except KeyError:\n",
    "                self.photo_dict[photo] = x\n",
    "\n",
    "        return callback\n",
    "    \n",
    "    def get_photos(self):\n",
    "        \n",
    "        display(HTML(f'''<h3 style = 'background:yellow; \n",
    "                     color: black; \n",
    "                     padding: 1em; \n",
    "                     text-align: center;'>Страница {self.current_page + 1}/{self.num_pages}</h3>'''))\n",
    "        nextb = widgets.Button(description = 'Туда ->')\n",
    "        lastb = widgets.Button(description = '<- Сюда') \n",
    "        nextb.on_click(self.next_plu)\n",
    "        lastb.on_click(self.bef_plu)\n",
    "        display(widgets.VBox([lastb, nextb]))\n",
    "        self.plu = self.all_plu[2 * self.current_page: 2 * (self.current_page + 1)] \n",
    "\n",
    "\n",
    "        plu_title = lambda x: f\"<h3 style = 'background:black; color: white; padding: 1em; text-align: center; border-radius: 100px;'>plu {x}</h3>\"\n",
    "        k = 0\n",
    "        while True:\n",
    "            try:\n",
    "                print(f\"Попытка подключиться {k+1}{(k+2) * '.'}\", end = '\\r')\n",
    "                ftp = ftplib.FTP(\"ftp.x5.ru\", user = self.login, passwd = self.password) \n",
    "                ftp.cwd('FotoCont_Perek/DBD')\n",
    "                break\n",
    "            except TimeoutError:\n",
    "                k += 1\n",
    "                continue\n",
    "            except:\n",
    "                print('Какая-то ошибка с подключением к серверу :(')\n",
    "                break\n",
    "        plu_widgets = []\n",
    "        for a, b, c in self.plu:\n",
    "            \n",
    "            \n",
    "            # переходим по ссылке к фоткам плюхи\n",
    "            try:\n",
    "                ftp.cwd(f'{a}/{b}/{a + b + c}')\n",
    "            except:\n",
    "                display(HTML(plu_title(f'{a + b + c} не обнаружен')))\n",
    "                \n",
    "                continue\n",
    "            photos_list = ftp.nlst()\n",
    "\n",
    "\n",
    "            photos = []\n",
    "            for photo in photos_list:\n",
    "\n",
    "                # извлекаем фотку\n",
    "                ftp.retrbinary('RETR %s' % photo, self.get_image_file_ftp(photo))\n",
    "\n",
    "                dropdown = self.get_dropdown()\n",
    "                try:\n",
    "                    index = int(photo.split('.')[0].split('_')[1])\n",
    "#                     print(index)\n",
    "                    dropdown.value = self.categories_list[index]\n",
    "                except: \n",
    "                    \n",
    "                    pass\n",
    "\n",
    "                self.categories[photo] = dropdown\n",
    "                image = widgets.Image(value = self.photo_dict[photo])\n",
    "                caption = widgets.Label(photo)\n",
    "                photos.append(self.get_widget(image, caption, dropdown))\n",
    "            plu_widget = widgets.VBox([widgets.HTML(plu_title(a + b + c)),\n",
    "                                       widgets.HBox(photos, layout = Layout(display = 'grid', \n",
    "                                                         grid_template_columns = '1fr 1fr 1fr'))])\n",
    "            \n",
    "\n",
    "            display(plu_widget)\n",
    "            ftp.cwd('../../..')\n",
    "        ftp.quit()\n",
    "        button = widgets.Button(description='ПЕРЕИМЕНОВАТЬ')\n",
    "        button.on_click(self.rename)\n",
    "        \n",
    "        display(button)\n",
    "        \n",
    "        \n",
    "    def go(self):\n",
    "        \n",
    "        self.plu = self.all_plu[:3]\n",
    "\n",
    "        self.get_photos()\n",
    "        "
   ]
  },
  {
   "cell_type": "code",
   "execution_count": 15,
   "metadata": {},
   "outputs": [],
   "source": [
    "login = \"nikita.dushakov\" #имя.фамилия\n",
    "password = \"CEwa8043\""
   ]
  },
  {
   "cell_type": "code",
   "execution_count": 16,
   "metadata": {},
   "outputs": [],
   "source": [
    "a = rename_photos(login = login, password = password, plu = my_plu)"
   ]
  },
  {
   "cell_type": "code",
   "execution_count": 17,
   "metadata": {
    "scrolled": false
   },
   "outputs": [
    {
     "data": {
      "text/html": [
       "<h3 style = 'background:yellow; \n",
       "                     color: black; \n",
       "                     padding: 1em; \n",
       "                     text-align: center;'>Страница 4/322</h3>"
      ],
      "text/plain": [
       "<IPython.core.display.HTML object>"
      ]
     },
     "metadata": {},
     "output_type": "display_data"
    },
    {
     "data": {
      "application/vnd.jupyter.widget-view+json": {
       "model_id": "8fda8dc77c5f46c183d07f5c1ed6974a",
       "version_major": 2,
       "version_minor": 0
      },
      "text/plain": [
       "VBox(children=(Button(description='<- Сюда', style=ButtonStyle()), Button(description='Туда ->', style=ButtonS…"
      ]
     },
     "metadata": {},
     "output_type": "display_data"
    },
    {
     "name": "stdout",
     "output_type": "stream",
     "text": [
      "Попытка подключиться 1..\r"
     ]
    },
    {
     "data": {
      "application/vnd.jupyter.widget-view+json": {
       "model_id": "5f915edd82b743259bd45b77b1a94948",
       "version_major": 2,
       "version_minor": 0
      },
      "text/plain": [
       "VBox(children=(HTML(value=\"<h3 style = 'background:black; color: white; padding: 1em; text-align: center; bord…"
      ]
     },
     "metadata": {},
     "output_type": "display_data"
    },
    {
     "data": {
      "application/vnd.jupyter.widget-view+json": {
       "model_id": "0ceaacf63d254202a33886e4664d9a8a",
       "version_major": 2,
       "version_minor": 0
      },
      "text/plain": [
       "VBox(children=(HTML(value=\"<h3 style = 'background:black; color: white; padding: 1em; text-align: center; bord…"
      ]
     },
     "metadata": {},
     "output_type": "display_data"
    },
    {
     "data": {
      "application/vnd.jupyter.widget-view+json": {
       "model_id": "b57d013478b54b009c799bf9fa9e3e5a",
       "version_major": 2,
       "version_minor": 0
      },
      "text/plain": [
       "Button(description='ПЕРЕИМЕНОВАТЬ', style=ButtonStyle())"
      ]
     },
     "metadata": {},
     "output_type": "display_data"
    }
   ],
   "source": [
    "a.go()"
   ]
  },
  {
   "cell_type": "code",
   "execution_count": null,
   "metadata": {},
   "outputs": [],
   "source": []
  }
 ],
 "metadata": {
  "kernelspec": {
   "display_name": "Python 3",
   "language": "python",
   "name": "python3"
  },
  "language_info": {
   "codemirror_mode": {
    "name": "ipython",
    "version": 3
   },
   "file_extension": ".py",
   "mimetype": "text/x-python",
   "name": "python",
   "nbconvert_exporter": "python",
   "pygments_lexer": "ipython3",
   "version": "3.7.5"
  }
 },
 "nbformat": 4,
 "nbformat_minor": 2
}
